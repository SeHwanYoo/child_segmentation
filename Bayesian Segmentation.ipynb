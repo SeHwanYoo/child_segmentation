{
 "cells": [
  {
   "cell_type": "markdown",
   "id": "36aaaa27",
   "metadata": {},
   "source": [
    "## Uncertainty = 1) Aleatoric Uncertainty + 2) Epistemic Uncertainty\n",
    "- 1) Aleatoric Uncertainty (; due to \"Data\")\n",
    "- 2) Epistemic Uncertainty (; due to \"Model\" + \"often a lack of training data\")"
   ]
  },
  {
   "cell_type": "markdown",
   "id": "32cb49ee",
   "metadata": {},
   "source": [
    "## Bayesian Deep Learning "
   ]
  },
  {
   "cell_type": "markdown",
   "id": "96b3202c",
   "metadata": {},
   "source": [
    "### MC Dropout -> Aleatoric Uncertainty 측정"
   ]
  },
  {
   "cell_type": "markdown",
   "id": "4fa9fa8e",
   "metadata": {},
   "source": [
    "- 1. Train Phase: Dropout \"on\"\n",
    "- 2. Inference Phase: Dropout \"on\" (마지막 부근 layer의 dropout 1개 또는 2개 정도 \"on\" / \"0.1 ~ 0.5\")\n",
    "- (만약 사용하는 모델의 마지막 부근 layer에 Dropout이 없으면, Dropout을 추가하고 Train 단계에서는 \"off\", Inference 단계에서 \"on\")\n",
    "- 3. Inference number: 50 ~ 100회"
   ]
  },
  {
   "cell_type": "markdown",
   "id": "72d667e9",
   "metadata": {},
   "source": [
    "## Heatmap"
   ]
  },
  {
   "cell_type": "code",
   "execution_count": null,
   "id": "ccf09470",
   "metadata": {},
   "outputs": [],
   "source": [
    "\"\"\" 예측한 Segmentation 결과를 폴더에서 불러와서 Heatmap을 그려줌 \"\"\"\n",
    "\n",
    "inference_num = 50 ## inference 횟수\n",
    "img_size = 400\n",
    "\n",
    "test_pred_imgs = sorted(glob.glob(pred_dir + '/*.png'))\n",
    "heatmap_dir = = '../Result/heatmap/' + dl_model + '/'\n",
    "\n",
    "\n",
    "ni_list = []\n",
    "for ni in range(1, int(len(test_pred_imgs)/inference_num)+1):\n",
    "    ni_list.append(inference_num*ni-1)\n",
    "    \n",
    "    \n",
    "heatmap_img_list = []    \n",
    "heatmap_img = np.zeros((img_size,img_size), np.uint8)\n",
    "for i in range(len(test_pred_imgs)):\n",
    "    pred_img = cv2.imread(test_pred_imgs[i],0)  \n",
    "    heatmap_img = np.add(heatmap_img, pred_img)\n",
    "    \n",
    "    for ni in ni_list:\n",
    "        if i == ni:\n",
    "            new_heatmap = 255-(heatmap_img/inference_num)\n",
    "            heatmap_img_list.append(new_heatmap)\n",
    "            heatmap_img = np.zeros((img_size,img_size), np.uint8)\n",
    "                  \n",
    "            \"\"\" Save \"\"\"\n",
    "            image.imsave(heatmap_dir + 'heatmap_' + str(test_pred_imgs[i][-10:-6]) + '.png', new_heatmap, cmap='OrRd')\n",
    "\n"
   ]
  },
  {
   "cell_type": "markdown",
   "id": "9508dd30",
   "metadata": {},
   "source": [
    "## Evaluation Metrics"
   ]
  },
  {
   "cell_type": "markdown",
   "id": "352eddce",
   "metadata": {},
   "source": [
    "- Table1. Pixel acc, Mean accurcy, Dice Coefficient\n",
    "- Table2. p(acc|certain), p(uncertain|inacc), PAvPU"
   ]
  },
  {
   "cell_type": "code",
   "execution_count": null,
   "id": "33c3d917",
   "metadata": {},
   "outputs": [],
   "source": []
  }
 ],
 "metadata": {
  "kernelspec": {
   "display_name": "Environment (conda_tensorflow2.7_p38)",
   "language": "python",
   "name": "conda_tensorflow2.7_p38"
  },
  "language_info": {
   "codemirror_mode": {
    "name": "ipython",
    "version": 3
   },
   "file_extension": ".py",
   "mimetype": "text/x-python",
   "name": "python",
   "nbconvert_exporter": "python",
   "pygments_lexer": "ipython3",
   "version": "3.8.0"
  }
 },
 "nbformat": 4,
 "nbformat_minor": 5
}
