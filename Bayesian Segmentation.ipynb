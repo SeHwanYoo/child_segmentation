{
 "cells": [
  {
   "cell_type": "markdown",
   "id": "36aaaa27",
   "metadata": {},
   "source": [
    "## Uncertainty = 1) Aleatoric Uncertainty + 2) Epistemic Uncertainty\n",
    "- 1) Aleatoric Uncertainty (; due to \"Data\")\n",
    "- 2) Epistemic Uncertainty (; due to \"Model\" + \"often a lack of training data\")"
   ]
  },
  {
   "cell_type": "markdown",
   "id": "32cb49ee",
   "metadata": {},
   "source": [
    "## Bayesian Deep Learning "
   ]
  },
  {
   "cell_type": "markdown",
   "id": "96b3202c",
   "metadata": {},
   "source": [
    "### MC Dropout -> Aleatoric Uncertainty 측정"
   ]
  },
  {
   "cell_type": "markdown",
   "id": "4fa9fa8e",
   "metadata": {},
   "source": [
    "- 1. Train Phase: Dropout \"on\"\n",
    "- 2. Inference Phase: Dropout \"on\" (마지막 부근 layer의 dropout 1개 또는 2개 정도 \"on\" / \"0.1 ~ 0.5\")\n",
    "- (만약 사용하는 모델의 마지막 부근 layer에 Dropout이 없으면, Dropout을 추가하고 Train 단계에서는 \"off\", Inference 단계에서 \"on\")\n",
    "- 3. Inference number: 50 ~ 100회"
   ]
  },
  {
   "cell_type": "markdown",
   "id": "72d667e9",
   "metadata": {},
   "source": [
    "## Heatmap"
   ]
  },
  {
   "cell_type": "code",
   "execution_count": 5,
   "id": "0b26d042",
   "metadata": {},
   "outputs": [
    {
     "name": "stdout",
     "output_type": "stream",
     "text": [
      "Segmentation Models: using `keras` framework.\n"
     ]
    },
    {
     "data": {
      "text/plain": [
       "'tf.keras'"
      ]
     },
     "execution_count": 5,
     "metadata": {},
     "output_type": "execute_result"
    }
   ],
   "source": [
    "import tensorflow as tf \n",
    "\n",
    "from glob import glob \n",
    "import cv2 \n",
    "import numpy as np \n",
    "\n",
    "import segmentation_models as sm\n",
    "sm.set_framework('tf.keras')\n",
    "sm.framework()"
   ]
  },
  {
   "cell_type": "code",
   "execution_count": 7,
   "id": "582761a5",
   "metadata": {},
   "outputs": [
    {
     "ename": "TypeError",
     "evalue": "__call__() missing 2 required positional arguments: 'gt' and 'pr'",
     "output_type": "error",
     "traceback": [
      "\u001b[1;31m---------------------------------------------------------------------------\u001b[0m",
      "\u001b[1;31mTypeError\u001b[0m                                 Traceback (most recent call last)",
      "\u001b[1;32mc:\\workspace\\child_segmentation\\Bayesian Segmentation.ipynb 셀 7\u001b[0m in \u001b[0;36m<cell line: 1>\u001b[1;34m()\u001b[0m\n\u001b[1;32m----> <a href='vscode-notebook-cell:/c%3A/workspace/child_segmentation/Bayesian%20Segmentation.ipynb#ch0000010?line=0'>1</a>\u001b[0m dl_model \u001b[39m=\u001b[39m tf\u001b[39m.\u001b[39mkeras\u001b[39m.\u001b[39mmodels\u001b[39m.\u001b[39mload_model(\u001b[39m'\u001b[39m\u001b[39mC:/Users/user/Desktop/models/child_segmentation/20220725-102354_model.h5\u001b[39m\u001b[39m'\u001b[39m, custom_objects\u001b[39m=\u001b[39m{\u001b[39m'\u001b[39m\u001b[39mbce_jaccard_loss\u001b[39m\u001b[39m'\u001b[39m : sm\u001b[39m.\u001b[39;49mlosses\u001b[39m.\u001b[39;49mbce_jaccard_loss()})\n",
      "\u001b[1;31mTypeError\u001b[0m: __call__() missing 2 required positional arguments: 'gt' and 'pr'"
     ]
    }
   ],
   "source": [
    "dl_model = tf.keras.models.load_model('C:/Users/user/Desktop/models/child_segmentation/20220725-102354_model.h5', custom_objects={'bce_jaccard_loss' : sm.losses.bce_jaccard_loss()})"
   ]
  },
  {
   "cell_type": "code",
   "execution_count": null,
   "id": "ccf09470",
   "metadata": {},
   "outputs": [],
   "source": [
    "\"\"\" 예측한 Segmentation 결과를 폴더에서 불러와서 Heatmap을 그려줌 \"\"\"\n",
    "\n",
    "inference_num = 50 ## inference 횟수\n",
    "img_size = 400\n",
    "\n",
    "test_pred_imgs = sorted(glob.glob(pred_dir + '/*.png'))\n",
    "heatmap_dir = 'C:/Users/user/Desktop/models/child_segmentation/'\n",
    "\n",
    "\n",
    "ni_list = []\n",
    "for ni in range(1, int(len(test_pred_imgs)/inference_num)+1):\n",
    "    ni_list.append(inference_num*ni-1)\n",
    "    \n",
    "    \n",
    "heatmap_img_list = []    \n",
    "heatmap_img = np.zeros((img_size,img_size), np.uint8)\n",
    "for i in range(len(test_pred_imgs)):\n",
    "    pred_img = cv2.imread(test_pred_imgs[i],0)  \n",
    "    heatmap_img = np.add(heatmap_img, pred_img)\n",
    "    \n",
    "    for ni in ni_list:\n",
    "        if i == ni:\n",
    "            new_heatmap = 255-(heatmap_img/inference_num)\n",
    "            heatmap_img_list.append(new_heatmap)\n",
    "            heatmap_img = np.zeros((img_size,img_size), np.uint8)\n",
    "                  \n",
    "            \"\"\" Save \"\"\"\n",
    "            image.imsave(heatmap_dir + 'heatmap_' + str(test_pred_imgs[i][-10:-6]) + '.png', new_heatmap, cmap='OrRd')\n",
    "\n"
   ]
  },
  {
   "cell_type": "markdown",
   "id": "9508dd30",
   "metadata": {},
   "source": [
    "## Evaluation Metrics"
   ]
  },
  {
   "cell_type": "markdown",
   "id": "352eddce",
   "metadata": {},
   "source": [
    "- Table1. Pixel acc, Mean accurcy, Dice Coefficient\n",
    "- Table2. p(acc|certain), p(uncertain|inacc), PAvPU"
   ]
  },
  {
   "cell_type": "code",
   "execution_count": null,
   "id": "33c3d917",
   "metadata": {},
   "outputs": [],
   "source": []
  }
 ],
 "metadata": {
  "kernelspec": {
   "display_name": "Python 3.9.12 ('base')",
   "language": "python",
   "name": "python3"
  },
  "language_info": {
   "codemirror_mode": {
    "name": "ipython",
    "version": 3
   },
   "file_extension": ".py",
   "mimetype": "text/x-python",
   "name": "python",
   "nbconvert_exporter": "python",
   "pygments_lexer": "ipython3",
   "version": "3.9.12"
  },
  "vscode": {
   "interpreter": {
    "hash": "19d1d53a962d236aa061289c2ac16dc8e6d9648c89fe79f459ae9a3493bc67b4"
   }
  }
 },
 "nbformat": 4,
 "nbformat_minor": 5
}
